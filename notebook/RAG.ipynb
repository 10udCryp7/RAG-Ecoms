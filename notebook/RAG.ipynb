{
 "cells": [
  {
   "cell_type": "code",
   "execution_count": 1,
   "metadata": {},
   "outputs": [
    {
     "data": {
      "text/plain": [
       "'\\nTODO:\\n1. Leverage `sentence-transformers/all-MiniLM-L6-v2` for embedding\\n2. Convert CSV Dataset to string\\n3. Compute Sentence Embedding\\n4. Build KNN index using FAISS\\n5. Process an input sentence and find k nearest sentences\\n6. Feed retrieves sentences to LLM\\n'"
      ]
     },
     "execution_count": 1,
     "metadata": {},
     "output_type": "execute_result"
    }
   ],
   "source": [
    "'''\n",
    "TODO:\n",
    "1. Leverage `sentence-transformers/all-MiniLM-L6-v2` for embedding\n",
    "2. Convert CSV Dataset to string\n",
    "3. Compute Sentence Embedding\n",
    "4. Build KNN index using FAISS\n",
    "5. Process an input sentence and find k nearest sentences\n",
    "6. Feed retrieves sentences to LLM\n",
    "'''"
   ]
  },
  {
   "cell_type": "markdown",
   "metadata": {},
   "source": [
    "***Sentence Transformer***"
   ]
  },
  {
   "cell_type": "code",
   "execution_count": 1,
   "metadata": {},
   "outputs": [
    {
     "name": "stderr",
     "output_type": "stream",
     "text": [
      "/media/iscrea/01DAF8607170AED0/LinuxMint/Code/AI/RAG-Ecoms/ragecoms-venv/lib/python3.12/site-packages/tqdm/auto.py:21: TqdmWarning: IProgress not found. Please update jupyter and ipywidgets. See https://ipywidgets.readthedocs.io/en/stable/user_install.html\n",
      "  from .autonotebook import tqdm as notebook_tqdm\n"
     ]
    },
    {
     "name": "stdout",
     "output_type": "stream",
     "text": [
      "(3, 384)\n",
      "tensor([[1.0000, 0.6660, 0.1046],\n",
      "        [0.6660, 1.0000, 0.1411],\n",
      "        [0.1046, 0.1411, 1.0000]])\n"
     ]
    }
   ],
   "source": [
    "from sentence_transformers import SentenceTransformer\n",
    "\n",
    "# 1. Load a pretrained Sentence Transformer model\n",
    "model = SentenceTransformer(\"all-MiniLM-L6-v2\")\n",
    "\n",
    "# The sentences to encode\n",
    "sentences = [\n",
    "    \"The weather is lovely today.\",\n",
    "    \"It's so sunny outside!\",\n",
    "    \"He drove to the stadium.\",\n",
    "]\n",
    "\n",
    "# 2. Calculate embeddings by calling model.encode()\n",
    "embeddings = model.encode(sentences)\n",
    "print(embeddings.shape)\n",
    "# [3, 384]\n",
    "\n",
    "# 3. Calculate the embedding similarities\n",
    "similarities = model.similarity(embeddings, embeddings)\n",
    "print(similarities)\n",
    "# tensor([[1.0000, 0.6660, 0.1046],\n",
    "#         [0.6660, 1.0000, 0.1411],\n",
    "#         [0.1046, 0.1411, 1.0000]])\n"
   ]
  },
  {
   "cell_type": "code",
   "execution_count": 3,
   "metadata": {},
   "outputs": [],
   "source": [
    "import pandas as pd"
   ]
  },
  {
   "cell_type": "markdown",
   "metadata": {},
   "source": [
    "***Read Data***"
   ]
  },
  {
   "cell_type": "code",
   "execution_count": 10,
   "metadata": {},
   "outputs": [],
   "source": [
    "dir = '../data/Beauty/all.csv'\n",
    "df = pd.read_csv(dir)"
   ]
  },
  {
   "cell_type": "code",
   "execution_count": 11,
   "metadata": {},
   "outputs": [
    {
     "data": {
      "text/html": [
       "<div>\n",
       "<style scoped>\n",
       "    .dataframe tbody tr th:only-of-type {\n",
       "        vertical-align: middle;\n",
       "    }\n",
       "\n",
       "    .dataframe tbody tr th {\n",
       "        vertical-align: top;\n",
       "    }\n",
       "\n",
       "    .dataframe thead th {\n",
       "        text-align: right;\n",
       "    }\n",
       "</style>\n",
       "<table border=\"1\" class=\"dataframe\">\n",
       "  <thead>\n",
       "    <tr style=\"text-align: right;\">\n",
       "      <th></th>\n",
       "      <th>user_id</th>\n",
       "      <th>item_id</th>\n",
       "      <th>rating</th>\n",
       "      <th>timestamp</th>\n",
       "      <th>summary</th>\n",
       "      <th>neg_item_id</th>\n",
       "      <th>position</th>\n",
       "      <th>history_item_id</th>\n",
       "      <th>history_rating</th>\n",
       "      <th>history_summary</th>\n",
       "      <th>history</th>\n",
       "      <th>user_profile</th>\n",
       "      <th>target_item_attributes</th>\n",
       "      <th>candidate_item_id</th>\n",
       "      <th>candidate_item_attributes</th>\n",
       "    </tr>\n",
       "  </thead>\n",
       "  <tbody>\n",
       "    <tr>\n",
       "      <th>0</th>\n",
       "      <td>7188</td>\n",
       "      <td>104</td>\n",
       "      <td>5.0</td>\n",
       "      <td>1023840000</td>\n",
       "      <td>Gentle Hand Soap</td>\n",
       "      <td>[177, 10080, 9114, 8743, 9727, 11504, 381, 809...</td>\n",
       "      <td>0</td>\n",
       "      <td>[]</td>\n",
       "      <td>[]</td>\n",
       "      <td>[]</td>\n",
       "      <td>NaN</td>\n",
       "      <td>unknown</td>\n",
       "      <td>Brand: Jason Natural, Price: 6.49, Categories:...</td>\n",
       "      <td>[10080, 9114, 381, 177, 8743, 9727, 8095, 104,...</td>\n",
       "      <td>10080: Brand: unknown, Price: 16.95, Categorie...</td>\n",
       "    </tr>\n",
       "    <tr>\n",
       "      <th>1</th>\n",
       "      <td>7188</td>\n",
       "      <td>101</td>\n",
       "      <td>5.0</td>\n",
       "      <td>1024185600</td>\n",
       "      <td>Only shampoo my husband will use lately</td>\n",
       "      <td>[5302, 9595, 8472, 1693, 1098, 8870, 11050, 58...</td>\n",
       "      <td>1</td>\n",
       "      <td>[104]</td>\n",
       "      <td>[5.0]</td>\n",
       "      <td>['Gentle Hand Soap']</td>\n",
       "      <td>Brand: Jason Natural, Price: 6.49, Categories:...</td>\n",
       "      <td>unknown</td>\n",
       "      <td>Brand: Jason Natural, Price: 5.56, Categories:...</td>\n",
       "      <td>[101, 11050, 9595, 5302, 1098, 1693, 8870, 755...</td>\n",
       "      <td>101: Brand: Jason Natural, Price: 5.56, Catego...</td>\n",
       "    </tr>\n",
       "    <tr>\n",
       "      <th>2</th>\n",
       "      <td>7188</td>\n",
       "      <td>102</td>\n",
       "      <td>5.0</td>\n",
       "      <td>1024185600</td>\n",
       "      <td>Good detangler</td>\n",
       "      <td>[5623, 583, 10773, 9278, 3451, 1697, 8044, 725...</td>\n",
       "      <td>2</td>\n",
       "      <td>[104, 101]</td>\n",
       "      <td>[5.0, 5.0]</td>\n",
       "      <td>['Gentle Hand Soap', 'Only shampoo my husband ...</td>\n",
       "      <td>Brand: Jason Natural, Price: 6.49, Categories:...</td>\n",
       "      <td>unknown</td>\n",
       "      <td>Brand: Jason Natural, Price: 10.46, Categories...</td>\n",
       "      <td>[10773, 3451, 583, 9278, 102, 5623, 9560, 8044...</td>\n",
       "      <td>10773: Brand: Nexxus, Price: 12.97, Categories...</td>\n",
       "    </tr>\n",
       "    <tr>\n",
       "      <th>3</th>\n",
       "      <td>21815</td>\n",
       "      <td>152</td>\n",
       "      <td>5.0</td>\n",
       "      <td>1036627200</td>\n",
       "      <td>I am SO EXCITED!</td>\n",
       "      <td>[1608, 11133, 9196, 9578, 5142, 352, 648, 1413...</td>\n",
       "      <td>0</td>\n",
       "      <td>[]</td>\n",
       "      <td>[]</td>\n",
       "      <td>[]</td>\n",
       "      <td>NaN</td>\n",
       "      <td>unknown</td>\n",
       "      <td>Brand: Vidal Sassoon, Price: 38.95, Categories...</td>\n",
       "      <td>[352, 152, 9196, 1608, 648, 9436, 9578, 11133,...</td>\n",
       "      <td>352: Brand: Soft &amp;#39;N Style, Price: 3.65, Ca...</td>\n",
       "    </tr>\n",
       "    <tr>\n",
       "      <th>4</th>\n",
       "      <td>7188</td>\n",
       "      <td>23</td>\n",
       "      <td>5.0</td>\n",
       "      <td>1052611200</td>\n",
       "      <td>Use as an extra ingredient in your own mixture</td>\n",
       "      <td>[8234, 2696, 10343, 920, 6619, 3299, 11507, 41...</td>\n",
       "      <td>3</td>\n",
       "      <td>[104, 101, 102]</td>\n",
       "      <td>[5.0, 5.0, 5.0]</td>\n",
       "      <td>['Gentle Hand Soap', 'Only shampoo my husband ...</td>\n",
       "      <td>Brand: Jason Natural, Price: 6.49, Categories:...</td>\n",
       "      <td>unknown</td>\n",
       "      <td>Brand: Alberto VO5, Price: 26.59, Categories: ...</td>\n",
       "      <td>[2696, 4101, 11507, 6619, 10343, 4967, 23, 329...</td>\n",
       "      <td>2696: Brand: L&amp;#39;Oreal Paris, Price: 0.8, Ca...</td>\n",
       "    </tr>\n",
       "  </tbody>\n",
       "</table>\n",
       "</div>"
      ],
      "text/plain": [
       "   user_id  item_id  rating   timestamp  \\\n",
       "0     7188      104     5.0  1023840000   \n",
       "1     7188      101     5.0  1024185600   \n",
       "2     7188      102     5.0  1024185600   \n",
       "3    21815      152     5.0  1036627200   \n",
       "4     7188       23     5.0  1052611200   \n",
       "\n",
       "                                          summary  \\\n",
       "0                                Gentle Hand Soap   \n",
       "1         Only shampoo my husband will use lately   \n",
       "2                                  Good detangler   \n",
       "3                                I am SO EXCITED!   \n",
       "4  Use as an extra ingredient in your own mixture   \n",
       "\n",
       "                                         neg_item_id  position  \\\n",
       "0  [177, 10080, 9114, 8743, 9727, 11504, 381, 809...         0   \n",
       "1  [5302, 9595, 8472, 1693, 1098, 8870, 11050, 58...         1   \n",
       "2  [5623, 583, 10773, 9278, 3451, 1697, 8044, 725...         2   \n",
       "3  [1608, 11133, 9196, 9578, 5142, 352, 648, 1413...         0   \n",
       "4  [8234, 2696, 10343, 920, 6619, 3299, 11507, 41...         3   \n",
       "\n",
       "   history_item_id   history_rating  \\\n",
       "0               []               []   \n",
       "1            [104]            [5.0]   \n",
       "2       [104, 101]       [5.0, 5.0]   \n",
       "3               []               []   \n",
       "4  [104, 101, 102]  [5.0, 5.0, 5.0]   \n",
       "\n",
       "                                     history_summary  \\\n",
       "0                                                 []   \n",
       "1                               ['Gentle Hand Soap']   \n",
       "2  ['Gentle Hand Soap', 'Only shampoo my husband ...   \n",
       "3                                                 []   \n",
       "4  ['Gentle Hand Soap', 'Only shampoo my husband ...   \n",
       "\n",
       "                                             history user_profile  \\\n",
       "0                                                NaN      unknown   \n",
       "1  Brand: Jason Natural, Price: 6.49, Categories:...      unknown   \n",
       "2  Brand: Jason Natural, Price: 6.49, Categories:...      unknown   \n",
       "3                                                NaN      unknown   \n",
       "4  Brand: Jason Natural, Price: 6.49, Categories:...      unknown   \n",
       "\n",
       "                              target_item_attributes  \\\n",
       "0  Brand: Jason Natural, Price: 6.49, Categories:...   \n",
       "1  Brand: Jason Natural, Price: 5.56, Categories:...   \n",
       "2  Brand: Jason Natural, Price: 10.46, Categories...   \n",
       "3  Brand: Vidal Sassoon, Price: 38.95, Categories...   \n",
       "4  Brand: Alberto VO5, Price: 26.59, Categories: ...   \n",
       "\n",
       "                                   candidate_item_id  \\\n",
       "0  [10080, 9114, 381, 177, 8743, 9727, 8095, 104,...   \n",
       "1  [101, 11050, 9595, 5302, 1098, 1693, 8870, 755...   \n",
       "2  [10773, 3451, 583, 9278, 102, 5623, 9560, 8044...   \n",
       "3  [352, 152, 9196, 1608, 648, 9436, 9578, 11133,...   \n",
       "4  [2696, 4101, 11507, 6619, 10343, 4967, 23, 329...   \n",
       "\n",
       "                           candidate_item_attributes  \n",
       "0  10080: Brand: unknown, Price: 16.95, Categorie...  \n",
       "1  101: Brand: Jason Natural, Price: 5.56, Catego...  \n",
       "2  10773: Brand: Nexxus, Price: 12.97, Categories...  \n",
       "3  352: Brand: Soft &#39;N Style, Price: 3.65, Ca...  \n",
       "4  2696: Brand: L&#39;Oreal Paris, Price: 0.8, Ca...  "
      ]
     },
     "execution_count": 11,
     "metadata": {},
     "output_type": "execute_result"
    }
   ],
   "source": [
    "df.head()"
   ]
  },
  {
   "cell_type": "code",
   "execution_count": null,
   "metadata": {},
   "outputs": [],
   "source": [
    "information = df['user_id', 'item_id', 'summary', 'history', 'target_item_attributes']"
   ]
  },
  {
   "cell_type": "code",
   "execution_count": null,
   "metadata": {},
   "outputs": [],
   "source": []
  }
 ],
 "metadata": {
  "kernelspec": {
   "display_name": "ragecoms-venv",
   "language": "python",
   "name": "python3"
  },
  "language_info": {
   "codemirror_mode": {
    "name": "ipython",
    "version": 3
   },
   "file_extension": ".py",
   "mimetype": "text/x-python",
   "name": "python",
   "nbconvert_exporter": "python",
   "pygments_lexer": "ipython3",
   "version": "3.12.3"
  }
 },
 "nbformat": 4,
 "nbformat_minor": 2
}
