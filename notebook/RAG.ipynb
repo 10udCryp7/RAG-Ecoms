{
 "cells": [
  {
   "cell_type": "code",
   "execution_count": 1,
   "metadata": {},
   "outputs": [
    {
     "data": {
      "text/plain": [
       "'\\nTODO:\\n1. Leverage `sentence-transformers/all-MiniLM-L6-v2` for embedding\\n2. Convert CSV Dataset to string\\n3. Compute Sentence Embedding\\n4. Build KNN index using FAISS\\n5. Process an input sentence and find k nearest sentences\\n6. Feed retrieves sentences to LLM\\n'"
      ]
     },
     "execution_count": 1,
     "metadata": {},
     "output_type": "execute_result"
    }
   ],
   "source": [
    "'''\n",
    "TODO:\n",
    "1. Leverage `sentence-transformers/all-MiniLM-L6-v2` for embedding\n",
    "2. Convert CSV Dataset to string\n",
    "3. Compute Sentence Embedding\n",
    "4. Build KNN index using FAISS\n",
    "5. Process an input sentence and find k nearest sentences\n",
    "6. Feed retrieves sentences to LLM\n",
    "'''"
   ]
  },
  {
   "cell_type": "code",
   "execution_count": null,
   "metadata": {},
   "outputs": [],
   "source": []
  }
 ],
 "metadata": {
  "kernelspec": {
   "display_name": "ragecoms-venv",
   "language": "python",
   "name": "python3"
  },
  "language_info": {
   "codemirror_mode": {
    "name": "ipython",
    "version": 3
   },
   "file_extension": ".py",
   "mimetype": "text/x-python",
   "name": "python",
   "nbconvert_exporter": "python",
   "pygments_lexer": "ipython3",
   "version": "3.12.3"
  }
 },
 "nbformat": 4,
 "nbformat_minor": 2
}
